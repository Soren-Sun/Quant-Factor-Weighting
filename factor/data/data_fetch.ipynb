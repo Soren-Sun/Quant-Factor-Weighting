{
 "cells": [
  {
   "cell_type": "code",
   "execution_count": null,
   "id": "8e7f2c03",
   "metadata": {},
   "outputs": [],
   "source": [
    "\n",
    "import tushare as ts\n",
    "import pandas as pd\n",
    "import time\n",
    "from tqdm import t\n",
    "\n",
    "# 初始化Tushare\n",
    "pro = ts.pro_api('your token')\n",
    "\n",
    "# 获取全市场股票并筛选电气设备行业\n",
    "df_stocks = pro.stock_basic(exchange='', list_status='L', \n",
    "                          fields='ts_code,name,industry,market,list_date')\n",
    "electrical_codes = df_stocks[df_stocks['industry'] == '电气设备']['ts_code'].tolist()\n"
   ]
  },
  {
   "cell_type": "code",
   "execution_count": 84,
   "id": "4371ad08",
   "metadata": {},
   "outputs": [
    {
     "name": "stdout",
     "output_type": "stream",
     "text": [
      "\n",
      "开始获取2024年日线行情数据(daily)...\n"
     ]
    },
    {
     "name": "stderr",
     "output_type": "stream",
     "text": [
      "按月获取日线数据:   8%|▊         | 1/12 [00:05<00:55,  5.02s/it]"
     ]
    },
    {
     "name": "stdout",
     "output_type": "stream",
     "text": [
      "202401月获取6882条记录\n"
     ]
    },
    {
     "name": "stderr",
     "output_type": "stream",
     "text": [
      "按月获取日线数据:  17%|█▋        | 2/12 [00:09<00:49,  4.96s/it]"
     ]
    },
    {
     "name": "stdout",
     "output_type": "stream",
     "text": [
      "202402月获取4724条记录\n"
     ]
    },
    {
     "name": "stderr",
     "output_type": "stream",
     "text": [
      "按月获取日线数据:  25%|██▌       | 3/12 [00:14<00:44,  4.98s/it]"
     ]
    },
    {
     "name": "stdout",
     "output_type": "stream",
     "text": [
      "202403月获取6616条记录\n"
     ]
    },
    {
     "name": "stderr",
     "output_type": "stream",
     "text": [
      "按月获取日线数据:  33%|███▎      | 4/12 [00:19<00:39,  5.00s/it]"
     ]
    },
    {
     "name": "stdout",
     "output_type": "stream",
     "text": [
      "202404月获取6334条记录\n"
     ]
    },
    {
     "name": "stderr",
     "output_type": "stream",
     "text": [
      "按月获取日线数据:  42%|████▏     | 5/12 [00:24<00:34,  5.00s/it]"
     ]
    },
    {
     "name": "stdout",
     "output_type": "stream",
     "text": [
      "202405月获取6340条记录\n"
     ]
    },
    {
     "name": "stderr",
     "output_type": "stream",
     "text": [
      "按月获取日线数据:  50%|█████     | 6/12 [00:29<00:30,  5.00s/it]"
     ]
    },
    {
     "name": "stdout",
     "output_type": "stream",
     "text": [
      "202406月获取6025条记录\n"
     ]
    },
    {
     "name": "stderr",
     "output_type": "stream",
     "text": [
      "按月获取日线数据:  58%|█████▊    | 7/12 [00:34<00:25,  5.01s/it]"
     ]
    },
    {
     "name": "stdout",
     "output_type": "stream",
     "text": [
      "202407月获取7332条记录\n"
     ]
    },
    {
     "name": "stderr",
     "output_type": "stream",
     "text": [
      "按月获取日线数据:  67%|██████▋   | 8/12 [00:40<00:20,  5.01s/it]"
     ]
    },
    {
     "name": "stdout",
     "output_type": "stream",
     "text": [
      "202408月获取7018条记录\n"
     ]
    },
    {
     "name": "stderr",
     "output_type": "stream",
     "text": [
      "按月获取日线数据:  75%|███████▌  | 9/12 [00:45<00:15,  5.01s/it]"
     ]
    },
    {
     "name": "stdout",
     "output_type": "stream",
     "text": [
      "202409月获取6059条记录\n"
     ]
    },
    {
     "name": "stderr",
     "output_type": "stream",
     "text": [
      "按月获取日线数据:  83%|████████▎ | 10/12 [00:49<00:09,  4.99s/it]"
     ]
    },
    {
     "name": "stdout",
     "output_type": "stream",
     "text": [
      "202410月获取5741条记录\n"
     ]
    },
    {
     "name": "stderr",
     "output_type": "stream",
     "text": [
      "按月获取日线数据:  92%|█████████▏| 11/12 [00:54<00:04,  4.99s/it]"
     ]
    },
    {
     "name": "stdout",
     "output_type": "stream",
     "text": [
      "202411月获取6682条记录\n"
     ]
    },
    {
     "name": "stderr",
     "output_type": "stream",
     "text": [
      "按月获取日线数据: 100%|██████████| 12/12 [01:00<00:00,  5.00s/it]"
     ]
    },
    {
     "name": "stdout",
     "output_type": "stream",
     "text": [
      "202412月获取6996条记录\n",
      "\n",
      "日线数据获取完成，共76749条记录\n"
     ]
    },
    {
     "name": "stderr",
     "output_type": "stream",
     "text": [
      "\n"
     ]
    },
    {
     "data": {
      "text/html": [
       "<div>\n",
       "<style scoped>\n",
       "    .dataframe tbody tr th:only-of-type {\n",
       "        vertical-align: middle;\n",
       "    }\n",
       "\n",
       "    .dataframe tbody tr th {\n",
       "        vertical-align: top;\n",
       "    }\n",
       "\n",
       "    .dataframe thead th {\n",
       "        text-align: right;\n",
       "    }\n",
       "</style>\n",
       "<table border=\"1\" class=\"dataframe\">\n",
       "  <thead>\n",
       "    <tr style=\"text-align: right;\">\n",
       "      <th></th>\n",
       "      <th>ts_code</th>\n",
       "      <th>trade_date</th>\n",
       "      <th>open</th>\n",
       "      <th>high</th>\n",
       "      <th>low</th>\n",
       "      <th>close</th>\n",
       "      <th>vol</th>\n",
       "      <th>amount</th>\n",
       "    </tr>\n",
       "  </thead>\n",
       "  <tbody>\n",
       "    <tr>\n",
       "      <th>1029</th>\n",
       "      <td>000009.SZ</td>\n",
       "      <td>20240102</td>\n",
       "      <td>11.76</td>\n",
       "      <td>11.78</td>\n",
       "      <td>11.66</td>\n",
       "      <td>11.69</td>\n",
       "      <td>104077.22</td>\n",
       "      <td>121760.593</td>\n",
       "    </tr>\n",
       "    <tr>\n",
       "      <th>980</th>\n",
       "      <td>000009.SZ</td>\n",
       "      <td>20240103</td>\n",
       "      <td>11.66</td>\n",
       "      <td>11.73</td>\n",
       "      <td>11.61</td>\n",
       "      <td>11.70</td>\n",
       "      <td>91791.57</td>\n",
       "      <td>107089.530</td>\n",
       "    </tr>\n",
       "    <tr>\n",
       "      <th>931</th>\n",
       "      <td>000009.SZ</td>\n",
       "      <td>20240104</td>\n",
       "      <td>11.62</td>\n",
       "      <td>11.72</td>\n",
       "      <td>11.57</td>\n",
       "      <td>11.64</td>\n",
       "      <td>90231.12</td>\n",
       "      <td>104971.672</td>\n",
       "    </tr>\n",
       "    <tr>\n",
       "      <th>882</th>\n",
       "      <td>000009.SZ</td>\n",
       "      <td>20240105</td>\n",
       "      <td>11.65</td>\n",
       "      <td>11.97</td>\n",
       "      <td>11.64</td>\n",
       "      <td>11.78</td>\n",
       "      <td>191617.50</td>\n",
       "      <td>226544.734</td>\n",
       "    </tr>\n",
       "    <tr>\n",
       "      <th>833</th>\n",
       "      <td>000009.SZ</td>\n",
       "      <td>20240108</td>\n",
       "      <td>11.74</td>\n",
       "      <td>11.79</td>\n",
       "      <td>11.53</td>\n",
       "      <td>11.55</td>\n",
       "      <td>174964.76</td>\n",
       "      <td>202886.483</td>\n",
       "    </tr>\n",
       "  </tbody>\n",
       "</table>\n",
       "</div>"
      ],
      "text/plain": [
       "        ts_code trade_date   open   high    low  close        vol      amount\n",
       "1029  000009.SZ   20240102  11.76  11.78  11.66  11.69  104077.22  121760.593\n",
       "980   000009.SZ   20240103  11.66  11.73  11.61  11.70   91791.57  107089.530\n",
       "931   000009.SZ   20240104  11.62  11.72  11.57  11.64   90231.12  104971.672\n",
       "882   000009.SZ   20240105  11.65  11.97  11.64  11.78  191617.50  226544.734\n",
       "833   000009.SZ   20240108  11.74  11.79  11.53  11.55  174964.76  202886.483"
      ]
     },
     "execution_count": 84,
     "metadata": {},
     "output_type": "execute_result"
    }
   ],
   "source": [
    "# 定义2024年各月\n",
    "months_2024 = [(f'2024{month:02d}01', f'2024{month:02d}31') for month in range(1, 13)]\n",
    "\n",
    "# 获取日线行情数据\n",
    "def get_daily_data():\n",
    "    print(\"\\n开始获取2024年日线行情数据(daily)...\")\n",
    "    daily_fields = 'ts_code,trade_date,open,high,low,close,vol,amount'\n",
    "    df_daily_list = []\n",
    "    \n",
    "    for start_date, end_date in tqdm(months_2024, desc=\"按月获取日线数据\"):\n",
    "        monthly_data = []\n",
    "        try:\n",
    "            # 分批获取(每次50只股票)\n",
    "            batch_size = 50\n",
    "            for i in range(0, len(electrical_codes), batch_size):\n",
    "                batch = electrical_codes[i:i+batch_size]\n",
    "                \n",
    "                temp_df = pro.daily(\n",
    "                    ts_code=','.join(batch),\n",
    "                    start_date=start_date,\n",
    "                    end_date=end_date,\n",
    "                    fields=daily_fields\n",
    "                )\n",
    "                \n",
    "                if not temp_df.empty:\n",
    "                    monthly_data.append(temp_df)\n",
    "                \n",
    "                time.sleep(0.5)  # 控制请求频率\n",
    "            \n",
    "            if monthly_data:\n",
    "                month_df = pd.concat(monthly_data)\n",
    "                df_daily_list.append(month_df)\n",
    "                print(f\"{start_date[:6]}月获取{len(month_df)}条记录\")\n",
    "                \n",
    "        except Exception as e:\n",
    "            print(f\"获取{start_date[:6]}月数据出错: {str(e)}\")\n",
    "            time.sleep(3)\n",
    "    \n",
    "    if df_daily_list:\n",
    "        df_daily = pd.concat(df_daily_list).drop_duplicates()\n",
    "        df_daily.sort_values(['ts_code', 'trade_date'], inplace=True)\n",
    "        print(f\"\\n日线数据获取完成，共{len(df_daily)}条记录\")\n",
    "        return df_daily\n",
    "    else:\n",
    "        print(\"未能获取日线数据\")\n",
    "        return pd.DataFrame()\n",
    "\n",
    "# 获取并保存日线数据\n",
    "df_daily = get_daily_data()\n",
    "df_daily.to_csv('electrical_daily_2024.csv', index=False)\n",
    "df_daily.head()"
   ]
  },
  {
   "cell_type": "code",
   "execution_count": 85,
   "id": "9bc10d6f",
   "metadata": {},
   "outputs": [
    {
     "name": "stdout",
     "output_type": "stream",
     "text": [
      "\n",
      "开始获取2024年基本面数据(daily_basic)...\n"
     ]
    },
    {
     "name": "stderr",
     "output_type": "stream",
     "text": [
      "按月获取基本面数据:   8%|▊         | 1/12 [01:40<18:23, 100.28s/it]"
     ]
    },
    {
     "name": "stdout",
     "output_type": "stream",
     "text": [
      "202401月获取6882条记录\n"
     ]
    },
    {
     "name": "stderr",
     "output_type": "stream",
     "text": [
      "按月获取基本面数据:  17%|█▋        | 2/12 [02:48<13:36, 81.67s/it] "
     ]
    },
    {
     "name": "stdout",
     "output_type": "stream",
     "text": [
      "202402月获取4724条记录\n"
     ]
    },
    {
     "name": "stderr",
     "output_type": "stream",
     "text": [
      "按月获取基本面数据:  25%|██▌       | 3/12 [04:24<13:12, 88.03s/it]"
     ]
    },
    {
     "name": "stdout",
     "output_type": "stream",
     "text": [
      "202403月获取6616条记录\n"
     ]
    },
    {
     "name": "stderr",
     "output_type": "stream",
     "text": [
      "按月获取基本面数据:  33%|███▎      | 4/12 [05:55<11:53, 89.24s/it]"
     ]
    },
    {
     "name": "stdout",
     "output_type": "stream",
     "text": [
      "202404月获取6334条记录\n"
     ]
    },
    {
     "name": "stderr",
     "output_type": "stream",
     "text": [
      "按月获取基本面数据:  42%|████▏     | 5/12 [07:26<10:29, 89.86s/it]"
     ]
    },
    {
     "name": "stdout",
     "output_type": "stream",
     "text": [
      "202405月获取6340条记录\n"
     ]
    },
    {
     "name": "stderr",
     "output_type": "stream",
     "text": [
      "按月获取基本面数据:  50%|█████     | 6/12 [08:52<08:51, 88.66s/it]"
     ]
    },
    {
     "name": "stdout",
     "output_type": "stream",
     "text": [
      "202406月获取6025条记录\n"
     ]
    },
    {
     "name": "stderr",
     "output_type": "stream",
     "text": [
      "按月获取基本面数据:  58%|█████▊    | 7/12 [10:37<07:48, 93.80s/it]"
     ]
    },
    {
     "name": "stdout",
     "output_type": "stream",
     "text": [
      "202407月获取7332条记录\n"
     ]
    },
    {
     "name": "stderr",
     "output_type": "stream",
     "text": [
      "按月获取基本面数据:  67%|██████▋   | 8/12 [12:17<06:22, 95.69s/it]"
     ]
    },
    {
     "name": "stdout",
     "output_type": "stream",
     "text": [
      "202408月获取7018条记录\n"
     ]
    },
    {
     "name": "stderr",
     "output_type": "stream",
     "text": [
      "按月获取基本面数据:  75%|███████▌  | 9/12 [14:04<04:58, 99.42s/it]"
     ]
    },
    {
     "name": "stdout",
     "output_type": "stream",
     "text": [
      "202409月获取6059条记录\n"
     ]
    },
    {
     "name": "stderr",
     "output_type": "stream",
     "text": [
      "按月获取基本面数据:  83%|████████▎ | 10/12 [15:26<03:08, 94.05s/it]"
     ]
    },
    {
     "name": "stdout",
     "output_type": "stream",
     "text": [
      "202410月获取5741条记录\n"
     ]
    },
    {
     "name": "stderr",
     "output_type": "stream",
     "text": [
      "按月获取基本面数据:  92%|█████████▏| 11/12 [17:02<01:34, 94.46s/it]"
     ]
    },
    {
     "name": "stdout",
     "output_type": "stream",
     "text": [
      "202411月获取6682条记录\n"
     ]
    },
    {
     "name": "stderr",
     "output_type": "stream",
     "text": [
      "按月获取基本面数据: 100%|██████████| 12/12 [18:42<00:00, 93.51s/it]\n"
     ]
    },
    {
     "name": "stdout",
     "output_type": "stream",
     "text": [
      "202412月获取6996条记录\n",
      "\n",
      "基本面数据获取完成，共76749条记录\n"
     ]
    },
    {
     "data": {
      "text/html": [
       "<div>\n",
       "<style scoped>\n",
       "    .dataframe tbody tr th:only-of-type {\n",
       "        vertical-align: middle;\n",
       "    }\n",
       "\n",
       "    .dataframe tbody tr th {\n",
       "        vertical-align: top;\n",
       "    }\n",
       "\n",
       "    .dataframe thead th {\n",
       "        text-align: right;\n",
       "    }\n",
       "</style>\n",
       "<table border=\"1\" class=\"dataframe\">\n",
       "  <thead>\n",
       "    <tr style=\"text-align: right;\">\n",
       "      <th></th>\n",
       "      <th>ts_code</th>\n",
       "      <th>trade_date</th>\n",
       "      <th>close</th>\n",
       "      <th>turnover_rate</th>\n",
       "      <th>pe_ttm</th>\n",
       "      <th>pb</th>\n",
       "      <th>total_mv</th>\n",
       "      <th>circ_mv</th>\n",
       "    </tr>\n",
       "  </thead>\n",
       "  <tbody>\n",
       "    <tr>\n",
       "      <th>0</th>\n",
       "      <td>000009.SZ</td>\n",
       "      <td>20240102</td>\n",
       "      <td>11.69</td>\n",
       "      <td>0.4079</td>\n",
       "      <td>23.9376</td>\n",
       "      <td>3.0625</td>\n",
       "      <td>3.015101e+06</td>\n",
       "      <td>2.982622e+06</td>\n",
       "    </tr>\n",
       "    <tr>\n",
       "      <th>0</th>\n",
       "      <td>000009.SZ</td>\n",
       "      <td>20240103</td>\n",
       "      <td>11.70</td>\n",
       "      <td>0.3598</td>\n",
       "      <td>23.9581</td>\n",
       "      <td>3.0652</td>\n",
       "      <td>3.017680e+06</td>\n",
       "      <td>2.985173e+06</td>\n",
       "    </tr>\n",
       "    <tr>\n",
       "      <th>0</th>\n",
       "      <td>000009.SZ</td>\n",
       "      <td>20240104</td>\n",
       "      <td>11.64</td>\n",
       "      <td>0.3536</td>\n",
       "      <td>23.8352</td>\n",
       "      <td>3.0494</td>\n",
       "      <td>3.002205e+06</td>\n",
       "      <td>2.969865e+06</td>\n",
       "    </tr>\n",
       "    <tr>\n",
       "      <th>0</th>\n",
       "      <td>000009.SZ</td>\n",
       "      <td>20240105</td>\n",
       "      <td>11.78</td>\n",
       "      <td>0.7510</td>\n",
       "      <td>24.1219</td>\n",
       "      <td>3.0861</td>\n",
       "      <td>3.038314e+06</td>\n",
       "      <td>3.005585e+06</td>\n",
       "    </tr>\n",
       "    <tr>\n",
       "      <th>0</th>\n",
       "      <td>000009.SZ</td>\n",
       "      <td>20240108</td>\n",
       "      <td>11.55</td>\n",
       "      <td>0.6858</td>\n",
       "      <td>23.6510</td>\n",
       "      <td>3.0259</td>\n",
       "      <td>2.978992e+06</td>\n",
       "      <td>2.946902e+06</td>\n",
       "    </tr>\n",
       "  </tbody>\n",
       "</table>\n",
       "</div>"
      ],
      "text/plain": [
       "     ts_code trade_date  close  turnover_rate   pe_ttm      pb      total_mv       circ_mv\n",
       "0  000009.SZ   20240102  11.69         0.4079  23.9376  3.0625  3.015101e+06  2.982622e+06\n",
       "0  000009.SZ   20240103  11.70         0.3598  23.9581  3.0652  3.017680e+06  2.985173e+06\n",
       "0  000009.SZ   20240104  11.64         0.3536  23.8352  3.0494  3.002205e+06  2.969865e+06\n",
       "0  000009.SZ   20240105  11.78         0.7510  24.1219  3.0861  3.038314e+06  3.005585e+06\n",
       "0  000009.SZ   20240108  11.55         0.6858  23.6510  3.0259  2.978992e+06  2.946902e+06"
      ]
     },
     "execution_count": 85,
     "metadata": {},
     "output_type": "execute_result"
    }
   ],
   "source": [
    "# 获取基本面数据\n",
    "def get_daily_basic_data():\n",
    "    print(\"\\n开始获取2024年基本面数据(daily_basic)...\")\n",
    "    basic_fields = 'ts_code,trade_date,close,turnover_rate,pe_ttm,pb,total_mv,circ_mv'\n",
    "    df_basic_list = []\n",
    "    \n",
    "    for start_date, end_date in tqdm(months_2024, desc=\"按月获取基本面数据\"):\n",
    "        monthly_data = []\n",
    "        try:\n",
    "            # 获取该月交易日历\n",
    "            trade_cal = pro.trade_cal(\n",
    "                exchange='', \n",
    "                start_date=start_date, \n",
    "                end_date=end_date, \n",
    "                is_open='1'\n",
    "            )\n",
    "            trade_dates = trade_cal['cal_date'].tolist()\n",
    "            \n",
    "            # 逐日获取数据\n",
    "            for trade_date in tqdm(trade_dates, desc=f\"{start_date[:6]}交易日\", leave=False):\n",
    "                # 分批获取(每次50只股票)\n",
    "                batch_size = 50\n",
    "                for i in range(0, len(electrical_codes), batch_size):\n",
    "                    batch = electrical_codes[i:i+batch_size]\n",
    "                    \n",
    "                    temp_df = pro.daily_basic(\n",
    "                        ts_code=','.join(batch),\n",
    "                        trade_date=trade_date,\n",
    "                        fields=basic_fields\n",
    "                    )\n",
    "                    \n",
    "                    if not temp_df.empty:\n",
    "                        monthly_data.append(temp_df)\n",
    "                    \n",
    "                    time.sleep(0.5)  # 控制请求频率\n",
    "            \n",
    "            if monthly_data:\n",
    "                month_df = pd.concat(monthly_data)\n",
    "                df_basic_list.append(month_df)\n",
    "                print(f\"{start_date[:6]}月获取{len(month_df)}条记录\")\n",
    "                \n",
    "        except Exception as e:\n",
    "            print(f\"获取{start_date[:6]}月数据出错: {str(e)}\")\n",
    "            time.sleep(3)\n",
    "    \n",
    "    if df_basic_list:\n",
    "        df_basic = pd.concat(df_basic_list).drop_duplicates()\n",
    "        df_basic.sort_values(['ts_code', 'trade_date'], inplace=True)\n",
    "        print(f\"\\n基本面数据获取完成，共{len(df_basic)}条记录\")\n",
    "        return df_basic\n",
    "    else:\n",
    "        print(\"未能获取基本面数据\")\n",
    "        return pd.DataFrame()\n",
    "\n",
    "# 获取并保存基本面数据\n",
    "df_basic = get_daily_basic_data()\n",
    "df_basic.to_csv('electrical_daily_basic_2024.csv', index=False)\n",
    "df_basic.head()\n"
   ]
  }
 ],
 "metadata": {
  "kernelspec": {
   "display_name": "base",
   "language": "python",
   "name": "python3"
  },
  "language_info": {
   "codemirror_mode": {
    "name": "ipython",
    "version": 3
   },
   "file_extension": ".py",
   "mimetype": "text/x-python",
   "name": "python",
   "nbconvert_exporter": "python",
   "pygments_lexer": "ipython3",
   "version": "3.10.9"
  }
 },
 "nbformat": 4,
 "nbformat_minor": 5
}
